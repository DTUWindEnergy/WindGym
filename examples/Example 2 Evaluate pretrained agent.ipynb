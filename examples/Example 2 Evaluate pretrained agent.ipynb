{
 "cells": [
  {
   "cell_type": "markdown",
   "metadata": {},
   "source": [
    "This example shows how to ecalute a pretrained agent. The agent was originally trained using SB3"
   ]
  },
  {
   "cell_type": "code",
   "execution_count": 7,
   "metadata": {},
   "outputs": [],
   "source": [
    "from py_wake.examples.data.hornsrev1 import V80\n",
    "from stable_baselines3 import PPO\n",
    "from WindGym import FarmEval, AgentEval, PyWakeAgent"
   ]
  },
  {
   "cell_type": "code",
   "execution_count": 2,
   "metadata": {},
   "outputs": [],
   "source": [
    "model_name  = \"PreTrainedPPO\"           #Name of the model. Used for the naming\n",
    "model_step  = \"PPO_2975000\"             #Name of the agent .zip file\n",
    "SEED        = 1                         #What seed to use for the evaluation\n",
    "t_sim       = 20                        #How many seconds to simulate\n",
    "yaml_path   = \"EnvConfigs/Env1.yaml\"    #Path to the yaml file     "
   ]
  },
  {
   "cell_type": "code",
   "execution_count": 3,
   "metadata": {},
   "outputs": [],
   "source": [
    "#Step 1) Define the env\n",
    "env = FarmEval(turbine=V80(), \n",
    "            yaml_path = yaml_path,\n",
    "            turbtype = \"Random\",    # Just use Random turbulence for this example\n",
    "            yaw_init=\"Zeros\",       # Always start at zero yaw offset\n",
    "            seed = SEED,\n",
    "            )"
   ]
  },
  {
   "cell_type": "code",
   "execution_count": 4,
   "metadata": {},
   "outputs": [],
   "source": [
    "#Step 2) Load the model and define the tester  \n",
    "model = PPO.load(model_step)\n",
    "tester = AgentEval(env=env, model=model, \n",
    "                   name=model_name + '_' + model_step,\n",
    "                   t_sim=t_sim)"
   ]
  },
  {
   "cell_type": "code",
   "execution_count": 5,
   "metadata": {},
   "outputs": [],
   "source": [
    "#Step 3) Define the windconditions to evaluate\n",
    "\n",
    "#Specify multiple conditions to test\n",
    "tester.set_conditions(winddirs=[260, 270, 280], windspeeds=[10, 14], turbintensities=[0.07], turbboxes=[\"Default\"])\n",
    "\n",
    "#Or specify a single condition to test\n",
    "tester.set_conditions(winddirs=[260], windspeeds=[10], turbintensities=[0.07], turbboxes=[\"Default\"])\n"
   ]
  },
  {
   "cell_type": "code",
   "execution_count": 6,
   "metadata": {},
   "outputs": [
    {
     "name": "stdout",
     "output_type": "stream",
     "text": [
      "Running for a total of  1  simulations.\n"
     ]
    }
   ],
   "source": [
    "#Step 4) Evaluate the model\n",
    "multi_ds = tester.eval_multiple(save_figs=False, debug=False) #Dont make the figures, just return the data"
   ]
  },
  {
   "cell_type": "code",
   "execution_count": 11,
   "metadata": {},
   "outputs": [],
   "source": [
    "#Step 5) Save the data to a netcdf file\n",
    "tester.save_performance()"
   ]
  },
  {
   "cell_type": "code",
   "execution_count": 13,
   "metadata": {},
   "outputs": [
    {
     "name": "stdout",
     "output_type": "stream",
     "text": [
      "INFO: checking out_of_order\n",
      "INFO: checking system\n",
      "INFO: checking solvers\n",
      "INFO: checking dup_inputs\n",
      "INFO: checking missing_recorders\n",
      "INFO: checking unserializable_options\n",
      "INFO: checking comp_has_no_outputs\n",
      "INFO: checking auto_ivc_warnings\n",
      "Running for a total of  1  simulations.\n",
      "INFO: checking out_of_order\n",
      "INFO: checking system\n",
      "INFO: checking solvers\n",
      "INFO: checking dup_inputs\n",
      "INFO: checking missing_recorders\n",
      "INFO: checking unserializable_options\n",
      "INFO: checking comp_has_no_outputs\n",
      "INFO: checking auto_ivc_warnings\n",
      "INFO: checking out_of_order\n",
      "INFO: checking system\n",
      "INFO: checking solvers\n",
      "INFO: checking dup_inputs\n",
      "INFO: checking missing_recorders\n",
      "INFO: checking unserializable_options\n",
      "INFO: checking comp_has_no_outputs\n",
      "INFO: checking auto_ivc_warnings\n",
      "Optimization Complete\n",
      "-----------------------------------\n"
     ]
    }
   ],
   "source": [
    "#If you wanted to do the evaluation with the PyWake agent, use:\n",
    "model = PyWakeAgent(x_pos=env.x_pos, y_pos=env.y_pos)\n",
    "tester = AgentEval(env=env, model=model, \n",
    "                   name=\"PyWakeAgent\",\n",
    "                   t_sim=t_sim)\n",
    "\n",
    "tester.set_conditions(winddirs=[260], windspeeds=[10], turbintensities=[0.07], turbboxes=[\"Default\"])\n",
    "multi_ds = tester.eval_multiple(save_figs=False, debug=False) #Dont make the figures, just return the data\n",
    "tester.save_performance()"
   ]
  }
 ],
 "metadata": {
  "kernelspec": {
   "display_name": "nygym",
   "language": "python",
   "name": "python3"
  },
  "language_info": {
   "codemirror_mode": {
    "name": "ipython",
    "version": 3
   },
   "file_extension": ".py",
   "mimetype": "text/x-python",
   "name": "python",
   "nbconvert_exporter": "python",
   "pygments_lexer": "ipython3",
   "version": "3.11.8"
  }
 },
 "nbformat": 4,
 "nbformat_minor": 2
}
